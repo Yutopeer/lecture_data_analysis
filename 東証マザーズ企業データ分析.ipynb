{
 "cells": [
  {
   "cell_type": "markdown",
   "metadata": {},
   "source": [
    "# 東証マザーズ企業データ分析"
   ]
  },
  {
   "cell_type": "markdown",
   "metadata": {},
   "source": [
    "今回は日経NEEDSのマザーズ上場企業データを使い、\n",
    "ＦＦＲＩ、アドバンスト・メディア、ラクス、ＰＫＳＨＡ Ｔｅｃｈｎｏｌｏｇy、サインポスト、チームスピリット、イーソル、Ｋｕｄａｎ、ＥｄｕＬａｂ、サーバーワークス\n",
    "の１０件の企業に着目しました。\n",
    "またExcelfile（2番目のシート）を以下のようにdataframeとして扱いやすいようにExcel上であらかじめ編集しました。\n",
    "\n",
    "なお、企業の選定基準はNISTEP企業名辞書（ver.2019_1）の日本標準産業分類に「ソフトウェア業」が含まれるもの、\n",
    "あるいは日本経済新聞のwebページhttps://www.nikkei.com/nkd/industry/stocklist/?n_m_code=146&hm=2\n",
    "の銘柄一覧の中で「システム・ソフトウエア」に分類されているものの中から選定しました。"
   ]
  },
  {
   "cell_type": "code",
   "execution_count": 1,
   "metadata": {},
   "outputs": [
    {
     "data": {
      "text/html": [
       "<div>\n",
       "<style scoped>\n",
       "    .dataframe tbody tr th:only-of-type {\n",
       "        vertical-align: middle;\n",
       "    }\n",
       "\n",
       "    .dataframe tbody tr th {\n",
       "        vertical-align: top;\n",
       "    }\n",
       "\n",
       "    .dataframe thead th {\n",
       "        text-align: right;\n",
       "    }\n",
       "</style>\n",
       "<table border=\"1\" class=\"dataframe\">\n",
       "  <thead>\n",
       "    <tr style=\"text-align: right;\">\n",
       "      <th></th>\n",
       "      <th>企業利潤率</th>\n",
       "      <th>日経会社コード</th>\n",
       "      <th>固定資産回転率</th>\n",
       "      <th>自己資本経常利益率</th>\n",
       "      <th>自己資本営業利益率</th>\n",
       "      <th>売上高研究開発費比率</th>\n",
       "      <th>ＲＯＥ（自己資本利益率）（Ａ）</th>\n",
       "      <th>ＲＯＥ（自己資本利益率）（Ｂ）</th>\n",
       "      <th>売上高・営業収益</th>\n",
       "      <th>１株当たり利益［累計］</th>\n",
       "      <th>...</th>\n",
       "      <th>ソフトウェア</th>\n",
       "      <th>意匠権</th>\n",
       "      <th>商標権</th>\n",
       "      <th>のれん</th>\n",
       "      <th>【ＱＴＲ】有形固定資産</th>\n",
       "      <th>【ＱＴＲ】無形固定資産</th>\n",
       "      <th>期末従業員数</th>\n",
       "      <th>期末女子従業員数</th>\n",
       "      <th>期末男子従業員数</th>\n",
       "      <th>特許権・実用新案権</th>\n",
       "    </tr>\n",
       "  </thead>\n",
       "  <tbody>\n",
       "    <tr>\n",
       "      <th>ＦＦＲＩ</th>\n",
       "      <td>-</td>\n",
       "      <td>31920</td>\n",
       "      <td>-</td>\n",
       "      <td>-</td>\n",
       "      <td>-</td>\n",
       "      <td>5.38</td>\n",
       "      <td>-</td>\n",
       "      <td>-</td>\n",
       "      <td>-</td>\n",
       "      <td>NaN</td>\n",
       "      <td>...</td>\n",
       "      <td>67</td>\n",
       "      <td>-</td>\n",
       "      <td>-</td>\n",
       "      <td>-</td>\n",
       "      <td>23</td>\n",
       "      <td>68</td>\n",
       "      <td>89</td>\n",
       "      <td>NaN</td>\n",
       "      <td>NaN</td>\n",
       "      <td>-</td>\n",
       "    </tr>\n",
       "    <tr>\n",
       "      <th>アドバンスト・メディア</th>\n",
       "      <td>8.79</td>\n",
       "      <td>24144</td>\n",
       "      <td>2.44</td>\n",
       "      <td>12.22</td>\n",
       "      <td>12.96</td>\n",
       "      <td>10.7</td>\n",
       "      <td>10.46</td>\n",
       "      <td>9.42</td>\n",
       "      <td>-</td>\n",
       "      <td>NaN</td>\n",
       "      <td>...</td>\n",
       "      <td>310</td>\n",
       "      <td>-</td>\n",
       "      <td>-</td>\n",
       "      <td>5</td>\n",
       "      <td>53</td>\n",
       "      <td>316</td>\n",
       "      <td>181</td>\n",
       "      <td>NaN</td>\n",
       "      <td>NaN</td>\n",
       "      <td>-</td>\n",
       "    </tr>\n",
       "    <tr>\n",
       "      <th>ラクス</th>\n",
       "      <td>27.39</td>\n",
       "      <td>36283</td>\n",
       "      <td>4.34</td>\n",
       "      <td>37.62</td>\n",
       "      <td>37.44</td>\n",
       "      <td>-</td>\n",
       "      <td>26.37</td>\n",
       "      <td>25.89</td>\n",
       "      <td>-</td>\n",
       "      <td>NaN</td>\n",
       "      <td>...</td>\n",
       "      <td>21</td>\n",
       "      <td>-</td>\n",
       "      <td>-</td>\n",
       "      <td>1283</td>\n",
       "      <td>201</td>\n",
       "      <td>1659</td>\n",
       "      <td>561</td>\n",
       "      <td>NaN</td>\n",
       "      <td>NaN</td>\n",
       "      <td>-</td>\n",
       "    </tr>\n",
       "    <tr>\n",
       "      <th>ＰＫＳＨＡ　Ｔｅｃｈｎｏｌｏｇy</th>\n",
       "      <td>13.97</td>\n",
       "      <td>32265</td>\n",
       "      <td>2.51</td>\n",
       "      <td>10.02</td>\n",
       "      <td>10.16</td>\n",
       "      <td>0.67</td>\n",
       "      <td>10.41</td>\n",
       "      <td>10.41</td>\n",
       "      <td>-</td>\n",
       "      <td>NaN</td>\n",
       "      <td>...</td>\n",
       "      <td>-</td>\n",
       "      <td>-</td>\n",
       "      <td>-</td>\n",
       "      <td>91</td>\n",
       "      <td>69</td>\n",
       "      <td>273</td>\n",
       "      <td>73</td>\n",
       "      <td>NaN</td>\n",
       "      <td>NaN</td>\n",
       "      <td>-</td>\n",
       "    </tr>\n",
       "    <tr>\n",
       "      <th>サインポスト</th>\n",
       "      <td>13.12</td>\n",
       "      <td>32294</td>\n",
       "      <td>16.93</td>\n",
       "      <td>22.31</td>\n",
       "      <td>22.56</td>\n",
       "      <td>-</td>\n",
       "      <td>16.84</td>\n",
       "      <td>16.84</td>\n",
       "      <td>-</td>\n",
       "      <td>NaN</td>\n",
       "      <td>...</td>\n",
       "      <td>95</td>\n",
       "      <td>-</td>\n",
       "      <td>-</td>\n",
       "      <td>-</td>\n",
       "      <td>45</td>\n",
       "      <td>95</td>\n",
       "      <td>-</td>\n",
       "      <td>NaN</td>\n",
       "      <td>NaN</td>\n",
       "      <td>-</td>\n",
       "    </tr>\n",
       "    <tr>\n",
       "      <th>チームスピリット</th>\n",
       "      <td>4.08</td>\n",
       "      <td>32383</td>\n",
       "      <td>14.41</td>\n",
       "      <td>10.39</td>\n",
       "      <td>13.28</td>\n",
       "      <td>-</td>\n",
       "      <td>17.52</td>\n",
       "      <td>17.52</td>\n",
       "      <td>-</td>\n",
       "      <td>NaN</td>\n",
       "      <td>...</td>\n",
       "      <td>-</td>\n",
       "      <td>-</td>\n",
       "      <td>-</td>\n",
       "      <td>-</td>\n",
       "      <td>17</td>\n",
       "      <td>-</td>\n",
       "      <td>64</td>\n",
       "      <td>NaN</td>\n",
       "      <td>NaN</td>\n",
       "      <td>-</td>\n",
       "    </tr>\n",
       "    <tr>\n",
       "      <th>イーソル</th>\n",
       "      <td>13.44</td>\n",
       "      <td>19498</td>\n",
       "      <td>14.64</td>\n",
       "      <td>20.3</td>\n",
       "      <td>20.62</td>\n",
       "      <td>4.38</td>\n",
       "      <td>15.48</td>\n",
       "      <td>15.43</td>\n",
       "      <td>-</td>\n",
       "      <td>NaN</td>\n",
       "      <td>...</td>\n",
       "      <td>47</td>\n",
       "      <td>-</td>\n",
       "      <td>-</td>\n",
       "      <td>6</td>\n",
       "      <td>118</td>\n",
       "      <td>56</td>\n",
       "      <td>419</td>\n",
       "      <td>NaN</td>\n",
       "      <td>NaN</td>\n",
       "      <td>-</td>\n",
       "    </tr>\n",
       "    <tr>\n",
       "      <th>Ｋｕｄａｎ</th>\n",
       "      <td>1.45</td>\n",
       "      <td>32437</td>\n",
       "      <td>45.33</td>\n",
       "      <td>2.09</td>\n",
       "      <td>-1.57</td>\n",
       "      <td>25.49</td>\n",
       "      <td>1.57</td>\n",
       "      <td>1.57</td>\n",
       "      <td>-</td>\n",
       "      <td>NaN</td>\n",
       "      <td>...</td>\n",
       "      <td>-</td>\n",
       "      <td>-</td>\n",
       "      <td>-</td>\n",
       "      <td>-</td>\n",
       "      <td>-</td>\n",
       "      <td>-</td>\n",
       "      <td>14</td>\n",
       "      <td>NaN</td>\n",
       "      <td>NaN</td>\n",
       "      <td>-</td>\n",
       "    </tr>\n",
       "    <tr>\n",
       "      <th>ＥｄｕＬａｂ</th>\n",
       "      <td>13.12</td>\n",
       "      <td>32440</td>\n",
       "      <td>1.73</td>\n",
       "      <td>44.99</td>\n",
       "      <td>47.97</td>\n",
       "      <td>-</td>\n",
       "      <td>27.32</td>\n",
       "      <td>27.32</td>\n",
       "      <td>-</td>\n",
       "      <td>NaN</td>\n",
       "      <td>...</td>\n",
       "      <td>1792</td>\n",
       "      <td>-</td>\n",
       "      <td>-</td>\n",
       "      <td>-</td>\n",
       "      <td>53</td>\n",
       "      <td>1792</td>\n",
       "      <td>115</td>\n",
       "      <td>NaN</td>\n",
       "      <td>NaN</td>\n",
       "      <td>-</td>\n",
       "    </tr>\n",
       "    <tr>\n",
       "      <th>サーバーワークス</th>\n",
       "      <td>18.98</td>\n",
       "      <td>32462</td>\n",
       "      <td>3.32</td>\n",
       "      <td>21.94</td>\n",
       "      <td>21.94</td>\n",
       "      <td>-</td>\n",
       "      <td>23.31</td>\n",
       "      <td>19.09</td>\n",
       "      <td>-</td>\n",
       "      <td>NaN</td>\n",
       "      <td>...</td>\n",
       "      <td>109</td>\n",
       "      <td>-</td>\n",
       "      <td>4</td>\n",
       "      <td>-</td>\n",
       "      <td>31</td>\n",
       "      <td>114</td>\n",
       "      <td>-</td>\n",
       "      <td>NaN</td>\n",
       "      <td>NaN</td>\n",
       "      <td>-</td>\n",
       "    </tr>\n",
       "  </tbody>\n",
       "</table>\n",
       "<p>10 rows × 24 columns</p>\n",
       "</div>"
      ],
      "text/plain": [
       "                  企業利潤率  日経会社コード 固定資産回転率 自己資本経常利益率 自己資本営業利益率 売上高研究開発費比率  \\\n",
       "ＦＦＲＩ                  -    31920       -         -         -       5.38   \n",
       "アドバンスト・メディア        8.79    24144    2.44     12.22     12.96       10.7   \n",
       "ラクス               27.39    36283    4.34     37.62     37.44          -   \n",
       "ＰＫＳＨＡ　Ｔｅｃｈｎｏｌｏｇy  13.97    32265    2.51     10.02     10.16       0.67   \n",
       "サインポスト            13.12    32294   16.93     22.31     22.56          -   \n",
       "チームスピリット           4.08    32383   14.41     10.39     13.28          -   \n",
       "イーソル              13.44    19498   14.64      20.3     20.62       4.38   \n",
       "Ｋｕｄａｎ              1.45    32437   45.33      2.09     -1.57      25.49   \n",
       "ＥｄｕＬａｂ            13.12    32440    1.73     44.99     47.97          -   \n",
       "サーバーワークス          18.98    32462    3.32     21.94     21.94          -   \n",
       "\n",
       "                 ＲＯＥ（自己資本利益率）（Ａ） ＲＯＥ（自己資本利益率）（Ｂ） 売上高・営業収益  １株当たり利益［累計］  \\\n",
       "ＦＦＲＩ                           -               -        -          NaN   \n",
       "アドバンスト・メディア                10.46            9.42        -          NaN   \n",
       "ラクス                        26.37           25.89        -          NaN   \n",
       "ＰＫＳＨＡ　Ｔｅｃｈｎｏｌｏｇy           10.41           10.41        -          NaN   \n",
       "サインポスト                     16.84           16.84        -          NaN   \n",
       "チームスピリット                   17.52           17.52        -          NaN   \n",
       "イーソル                       15.48           15.43        -          NaN   \n",
       "Ｋｕｄａｎ                       1.57            1.57        -          NaN   \n",
       "ＥｄｕＬａｂ                     27.32           27.32        -          NaN   \n",
       "サーバーワークス                   23.31           19.09        -          NaN   \n",
       "\n",
       "                    ...     ソフトウェア 意匠権 商標権   のれん 【ＱＴＲ】有形固定資産 【ＱＴＲ】無形固定資産  \\\n",
       "ＦＦＲＩ                ...         67   -   -     -          23          68   \n",
       "アドバンスト・メディア         ...        310   -   -     5          53         316   \n",
       "ラクス                 ...         21   -   -  1283         201        1659   \n",
       "ＰＫＳＨＡ　Ｔｅｃｈｎｏｌｏｇy    ...          -   -   -    91          69         273   \n",
       "サインポスト              ...         95   -   -     -          45          95   \n",
       "チームスピリット            ...          -   -   -     -          17           -   \n",
       "イーソル                ...         47   -   -     6         118          56   \n",
       "Ｋｕｄａｎ               ...          -   -   -     -           -           -   \n",
       "ＥｄｕＬａｂ              ...       1792   -   -     -          53        1792   \n",
       "サーバーワークス            ...        109   -   4     -          31         114   \n",
       "\n",
       "                 期末従業員数 期末女子従業員数 期末男子従業員数 特許権・実用新案権  \n",
       "ＦＦＲＩ                 89      NaN      NaN         -  \n",
       "アドバンスト・メディア         181      NaN      NaN         -  \n",
       "ラクス                 561      NaN      NaN         -  \n",
       "ＰＫＳＨＡ　Ｔｅｃｈｎｏｌｏｇy     73      NaN      NaN         -  \n",
       "サインポスト                -      NaN      NaN         -  \n",
       "チームスピリット             64      NaN      NaN         -  \n",
       "イーソル                419      NaN      NaN         -  \n",
       "Ｋｕｄａｎ                14      NaN      NaN         -  \n",
       "ＥｄｕＬａｂ              115      NaN      NaN         -  \n",
       "サーバーワークス              -      NaN      NaN         -  \n",
       "\n",
       "[10 rows x 24 columns]"
      ]
     },
     "execution_count": 1,
     "metadata": {},
     "output_type": "execute_result"
    }
   ],
   "source": [
    "import pandas as pd\n",
    "import seaborn as sns\n",
    "from scipy import stats\n",
    "\n",
    "input_book = pd.ExcelFile('FqReport_mothers_20190510.xlsx')\n",
    "input_sheet_name = input_book.sheet_names\n",
    "\n",
    "df = input_book.parse(input_sheet_name[1])\n",
    "df"
   ]
  },
  {
   "cell_type": "markdown",
   "metadata": {},
   "source": [
    "まず企業利潤率に着目すると、- となっているＦＦＲＩを除き全て正の値であることがわかります。<br>\n",
    "分析の為に - を０に変えます。"
   ]
  },
  {
   "cell_type": "code",
   "execution_count": 2,
   "metadata": {},
   "outputs": [],
   "source": [
    "df２=df.replace('-',0)"
   ]
  },
  {
   "cell_type": "markdown",
   "metadata": {},
   "source": [
    "主な財務パフォーマンスのデータや従業員数を取り込みます。"
   ]
  },
  {
   "cell_type": "code",
   "execution_count": 3,
   "metadata": {},
   "outputs": [],
   "source": [
    "profit_rate = df2.loc[:,'企業利潤率']\n",
    "turnover=df2.loc[:,'固定資産回転率']\n",
    "staff=df2.loc[:,'期末従業員数']\n",
    "ROE=df2.loc[:,'ＲＯＥ（自己資本利益率）（Ａ）']\n",
    "operatingreturn=df2.loc[:,'自己資本営業利益率']"
   ]
  },
  {
   "cell_type": "markdown",
   "metadata": {},
   "source": [
    "企業利潤率の統計量を見てみます。"
   ]
  },
  {
   "cell_type": "code",
   "execution_count": 4,
   "metadata": {},
   "outputs": [
    {
     "data": {
      "text/plain": [
       "count    10.000000\n",
       "mean     11.434000\n",
       "std       8.294344\n",
       "min       0.000000\n",
       "25%       5.257500\n",
       "50%      13.120000\n",
       "75%      13.837500\n",
       "max      27.390000\n",
       "Name: 企業利潤率, dtype: float64"
      ]
     },
     "execution_count": 4,
     "metadata": {},
     "output_type": "execute_result"
    }
   ],
   "source": [
    "profit_rate.describe()"
   ]
  },
  {
   "cell_type": "markdown",
   "metadata": {},
   "source": [
    "半数以上の企業で、企業利潤率が１３％を超えています。\n",
    "ソフトウェア産業の未来は明るいかもしれません。"
   ]
  },
  {
   "cell_type": "code",
   "execution_count": 5,
   "metadata": {},
   "outputs": [
    {
     "name": "stderr",
     "output_type": "stream",
     "text": [
      "/Users/yutopia/anaconda3/lib/python3.7/site-packages/scipy/stats/stats.py:1713: FutureWarning: Using a non-tuple sequence for multidimensional indexing is deprecated; use `arr[tuple(seq)]` instead of `arr[seq]`. In the future this will be interpreted as an array index, `arr[np.array(seq)]`, which will result either in an error or a different result.\n",
      "  return np.add.reduce(sorted[indexer] * weights, axis=axis) / sumval\n",
      "/Users/yutopia/anaconda3/lib/python3.7/site-packages/seaborn/axisgrid.py:1847: UserWarning: JointGrid annotation is deprecated and will be removed in a future release.\n",
      "  warnings.warn(UserWarning(msg))\n"
     ]
    },
    {
     "data": {
      "text/plain": [
       "<seaborn.axisgrid.JointGrid at 0x1a230c76d8>"
      ]
     },
     "execution_count": 5,
     "metadata": {},
     "output_type": "execute_result"
    },
    {
     "data": {
      "image/png": "[encoded data removed]",
      "text/plain": [
       "<Figure size 432x432 with 3 Axes>"
      ]
     },
     "metadata": {
      "needs_background": "light"
     },
     "output_type": "display_data"
    }
   ],
   "source": [
    "sns.jointplot(data=df２, x=\"企業利潤率\", y=\"固定資産回転率\").annotate(stats.pearsonr)"
   ]
  },
  {
   "cell_type": "markdown",
   "metadata": {},
   "source": [
    "企業利潤率と固定資産回転率は少し負の相関がみられます。"
   ]
  },
  {
   "cell_type": "code",
   "execution_count": 6,
   "metadata": {},
   "outputs": [
    {
     "name": "stderr",
     "output_type": "stream",
     "text": [
      "/Users/yutopia/anaconda3/lib/python3.7/site-packages/seaborn/axisgrid.py:1847: UserWarning: JointGrid annotation is deprecated and will be removed in a future release.\n",
      "  warnings.warn(UserWarning(msg))\n"
     ]
    },
    {
     "data": {
      "text/plain": [
       "<seaborn.axisgrid.JointGrid at 0x1a23696f28>"
      ]
     },
     "execution_count": 6,
     "metadata": {},
     "output_type": "execute_result"
    },
    {
     "data": {
      "image/png": "[encoded data removed]",
      "text/plain": [
       "<Figure size 432x432 with 3 Axes>"
      ]
     },
     "metadata": {
      "needs_background": "light"
     },
     "output_type": "display_data"
    }
   ],
   "source": [
    "sns.jointplot(data=df２, x=\"企業利潤率\", y=\"期末従業員数\").annotate(stats.pearsonr)"
   ]
  },
  {
   "cell_type": "markdown",
   "metadata": {},
   "source": [
    "個人的にはあまり相関が企業利潤率と期末従業員数はあまり関係がないと思っていましたが、やや正の相関がみられました。<br>\n",
    "従業員が多ければ企業利潤率が高まりやすいというよりは、企業利潤率が高いから従業員が多い（増やした）と考えるのが妥当と思われます。<br>\n",
    "次に、固定資産回転率、自己資本利益率、ROEのヒストグラムをみてみます。"
   ]
  },
  {
   "cell_type": "code",
   "execution_count": 7,
   "metadata": {},
   "outputs": [
    {
     "data": {
      "text/plain": [
       "<matplotlib.axes._subplots.AxesSubplot at 0x1a239518d0>"
      ]
     },
     "execution_count": 7,
     "metadata": {},
     "output_type": "execute_result"
    },
    {
     "data": {
      "image/png": "[encoded data removed]",
      "text/plain": [
       "<Figure size 432x288 with 1 Axes>"
      ]
     },
     "metadata": {
      "needs_background": "light"
     },
     "output_type": "display_data"
    }
   ],
   "source": [
    "sns.distplot(turnover,bins=15) #固定資産回転率"
   ]
  },
  {
   "cell_type": "markdown",
   "metadata": {},
   "source": [
    "多くの企業が固定資産を売り上げに繋げられていると言えそうです。"
   ]
  },
  {
   "cell_type": "code",
   "execution_count": 8,
   "metadata": {},
   "outputs": [
    {
     "data": {
      "text/plain": [
       "<matplotlib.axes._subplots.AxesSubplot at 0x1a23919c88>"
      ]
     },
     "execution_count": 8,
     "metadata": {},
     "output_type": "execute_result"
    },
    {
     "data": {
      "image/png": "[encoded data removed]",
      "text/plain": [
       "<Figure size 432x288 with 1 Axes>"
      ]
     },
     "metadata": {
      "needs_background": "light"
     },
     "output_type": "display_data"
    }
   ],
   "source": [
    "sns.distplot(operatingreturn,bins=10) #自己資本利益率"
   ]
  },
  {
   "cell_type": "code",
   "execution_count": 9,
   "metadata": {},
   "outputs": [
    {
     "data": {
      "text/plain": [
       "<matplotlib.axes._subplots.AxesSubplot at 0x1a23b98e80>"
      ]
     },
     "execution_count": 9,
     "metadata": {},
     "output_type": "execute_result"
    },
    {
     "data": {
      "image/png": "[encoded data removed]",
      "text/plain": [
       "<Figure size 432x288 with 1 Axes>"
      ]
     },
     "metadata": {
      "needs_background": "light"
     },
     "output_type": "display_data"
    }
   ],
   "source": [
    "sns.distplot(ROE,bins=10) #ROE"
   ]
  },
  {
   "cell_type": "markdown",
   "metadata": {},
   "source": [
    "どのパラメータも全ての企業で正なので条件を厳しくしてより良い財務パフォーマンスの企業だけを絞ります。<br>\n",
    "まず企業利潤率が１０％以上の企業に絞り込みます。"
   ]
  },
  {
   "cell_type": "code",
   "execution_count": 10,
   "metadata": {},
   "outputs": [],
   "source": [
    "df_profitable=df[profit_rate>=10]"
   ]
  },
  {
   "cell_type": "code",
   "execution_count": 11,
   "metadata": {},
   "outputs": [
    {
     "data": {
      "text/html": [
       "<div>\n",
       "<style scoped>\n",
       "    .dataframe tbody tr th:only-of-type {\n",
       "        vertical-align: middle;\n",
       "    }\n",
       "\n",
       "    .dataframe tbody tr th {\n",
       "        vertical-align: top;\n",
       "    }\n",
       "\n",
       "    .dataframe thead th {\n",
       "        text-align: right;\n",
       "    }\n",
       "</style>\n",
       "<table border=\"1\" class=\"dataframe\">\n",
       "  <thead>\n",
       "    <tr style=\"text-align: right;\">\n",
       "      <th></th>\n",
       "      <th>企業利潤率</th>\n",
       "      <th>日経会社コード</th>\n",
       "      <th>固定資産回転率</th>\n",
       "      <th>自己資本経常利益率</th>\n",
       "      <th>自己資本営業利益率</th>\n",
       "      <th>売上高研究開発費比率</th>\n",
       "      <th>ＲＯＥ（自己資本利益率）（Ａ）</th>\n",
       "      <th>ＲＯＥ（自己資本利益率）（Ｂ）</th>\n",
       "      <th>売上高・営業収益</th>\n",
       "      <th>１株当たり利益［累計］</th>\n",
       "      <th>...</th>\n",
       "      <th>ソフトウェア</th>\n",
       "      <th>意匠権</th>\n",
       "      <th>商標権</th>\n",
       "      <th>のれん</th>\n",
       "      <th>【ＱＴＲ】有形固定資産</th>\n",
       "      <th>【ＱＴＲ】無形固定資産</th>\n",
       "      <th>期末従業員数</th>\n",
       "      <th>期末女子従業員数</th>\n",
       "      <th>期末男子従業員数</th>\n",
       "      <th>特許権・実用新案権</th>\n",
       "    </tr>\n",
       "  </thead>\n",
       "  <tbody>\n",
       "    <tr>\n",
       "      <th>ラクス</th>\n",
       "      <td>27.39</td>\n",
       "      <td>36283</td>\n",
       "      <td>4.34</td>\n",
       "      <td>37.62</td>\n",
       "      <td>37.44</td>\n",
       "      <td>-</td>\n",
       "      <td>26.37</td>\n",
       "      <td>25.89</td>\n",
       "      <td>-</td>\n",
       "      <td>NaN</td>\n",
       "      <td>...</td>\n",
       "      <td>21</td>\n",
       "      <td>-</td>\n",
       "      <td>-</td>\n",
       "      <td>1283</td>\n",
       "      <td>201</td>\n",
       "      <td>1659</td>\n",
       "      <td>561</td>\n",
       "      <td>NaN</td>\n",
       "      <td>NaN</td>\n",
       "      <td>-</td>\n",
       "    </tr>\n",
       "    <tr>\n",
       "      <th>ＰＫＳＨＡ　Ｔｅｃｈｎｏｌｏｇy</th>\n",
       "      <td>13.97</td>\n",
       "      <td>32265</td>\n",
       "      <td>2.51</td>\n",
       "      <td>10.02</td>\n",
       "      <td>10.16</td>\n",
       "      <td>0.67</td>\n",
       "      <td>10.41</td>\n",
       "      <td>10.41</td>\n",
       "      <td>-</td>\n",
       "      <td>NaN</td>\n",
       "      <td>...</td>\n",
       "      <td>-</td>\n",
       "      <td>-</td>\n",
       "      <td>-</td>\n",
       "      <td>91</td>\n",
       "      <td>69</td>\n",
       "      <td>273</td>\n",
       "      <td>73</td>\n",
       "      <td>NaN</td>\n",
       "      <td>NaN</td>\n",
       "      <td>-</td>\n",
       "    </tr>\n",
       "    <tr>\n",
       "      <th>サインポスト</th>\n",
       "      <td>13.12</td>\n",
       "      <td>32294</td>\n",
       "      <td>16.93</td>\n",
       "      <td>22.31</td>\n",
       "      <td>22.56</td>\n",
       "      <td>-</td>\n",
       "      <td>16.84</td>\n",
       "      <td>16.84</td>\n",
       "      <td>-</td>\n",
       "      <td>NaN</td>\n",
       "      <td>...</td>\n",
       "      <td>95</td>\n",
       "      <td>-</td>\n",
       "      <td>-</td>\n",
       "      <td>-</td>\n",
       "      <td>45</td>\n",
       "      <td>95</td>\n",
       "      <td>-</td>\n",
       "      <td>NaN</td>\n",
       "      <td>NaN</td>\n",
       "      <td>-</td>\n",
       "    </tr>\n",
       "    <tr>\n",
       "      <th>イーソル</th>\n",
       "      <td>13.44</td>\n",
       "      <td>19498</td>\n",
       "      <td>14.64</td>\n",
       "      <td>20.3</td>\n",
       "      <td>20.62</td>\n",
       "      <td>4.38</td>\n",
       "      <td>15.48</td>\n",
       "      <td>15.43</td>\n",
       "      <td>-</td>\n",
       "      <td>NaN</td>\n",
       "      <td>...</td>\n",
       "      <td>47</td>\n",
       "      <td>-</td>\n",
       "      <td>-</td>\n",
       "      <td>6</td>\n",
       "      <td>118</td>\n",
       "      <td>56</td>\n",
       "      <td>419</td>\n",
       "      <td>NaN</td>\n",
       "      <td>NaN</td>\n",
       "      <td>-</td>\n",
       "    </tr>\n",
       "    <tr>\n",
       "      <th>ＥｄｕＬａｂ</th>\n",
       "      <td>13.12</td>\n",
       "      <td>32440</td>\n",
       "      <td>1.73</td>\n",
       "      <td>44.99</td>\n",
       "      <td>47.97</td>\n",
       "      <td>-</td>\n",
       "      <td>27.32</td>\n",
       "      <td>27.32</td>\n",
       "      <td>-</td>\n",
       "      <td>NaN</td>\n",
       "      <td>...</td>\n",
       "      <td>1792</td>\n",
       "      <td>-</td>\n",
       "      <td>-</td>\n",
       "      <td>-</td>\n",
       "      <td>53</td>\n",
       "      <td>1792</td>\n",
       "      <td>115</td>\n",
       "      <td>NaN</td>\n",
       "      <td>NaN</td>\n",
       "      <td>-</td>\n",
       "    </tr>\n",
       "    <tr>\n",
       "      <th>サーバーワークス</th>\n",
       "      <td>18.98</td>\n",
       "      <td>32462</td>\n",
       "      <td>3.32</td>\n",
       "      <td>21.94</td>\n",
       "      <td>21.94</td>\n",
       "      <td>-</td>\n",
       "      <td>23.31</td>\n",
       "      <td>19.09</td>\n",
       "      <td>-</td>\n",
       "      <td>NaN</td>\n",
       "      <td>...</td>\n",
       "      <td>109</td>\n",
       "      <td>-</td>\n",
       "      <td>4</td>\n",
       "      <td>-</td>\n",
       "      <td>31</td>\n",
       "      <td>114</td>\n",
       "      <td>-</td>\n",
       "      <td>NaN</td>\n",
       "      <td>NaN</td>\n",
       "      <td>-</td>\n",
       "    </tr>\n",
       "  </tbody>\n",
       "</table>\n",
       "<p>6 rows × 24 columns</p>\n",
       "</div>"
      ],
      "text/plain": [
       "                  企業利潤率  日経会社コード 固定資産回転率 自己資本経常利益率 自己資本営業利益率 売上高研究開発費比率  \\\n",
       "ラクス               27.39    36283    4.34     37.62     37.44          -   \n",
       "ＰＫＳＨＡ　Ｔｅｃｈｎｏｌｏｇy  13.97    32265    2.51     10.02     10.16       0.67   \n",
       "サインポスト            13.12    32294   16.93     22.31     22.56          -   \n",
       "イーソル              13.44    19498   14.64      20.3     20.62       4.38   \n",
       "ＥｄｕＬａｂ            13.12    32440    1.73     44.99     47.97          -   \n",
       "サーバーワークス          18.98    32462    3.32     21.94     21.94          -   \n",
       "\n",
       "                 ＲＯＥ（自己資本利益率）（Ａ） ＲＯＥ（自己資本利益率）（Ｂ） 売上高・営業収益  １株当たり利益［累計］  \\\n",
       "ラクス                        26.37           25.89        -          NaN   \n",
       "ＰＫＳＨＡ　Ｔｅｃｈｎｏｌｏｇy           10.41           10.41        -          NaN   \n",
       "サインポスト                     16.84           16.84        -          NaN   \n",
       "イーソル                       15.48           15.43        -          NaN   \n",
       "ＥｄｕＬａｂ                     27.32           27.32        -          NaN   \n",
       "サーバーワークス                   23.31           19.09        -          NaN   \n",
       "\n",
       "                    ...     ソフトウェア 意匠権 商標権   のれん 【ＱＴＲ】有形固定資産 【ＱＴＲ】無形固定資産  \\\n",
       "ラクス                 ...         21   -   -  1283         201        1659   \n",
       "ＰＫＳＨＡ　Ｔｅｃｈｎｏｌｏｇy    ...          -   -   -    91          69         273   \n",
       "サインポスト              ...         95   -   -     -          45          95   \n",
       "イーソル                ...         47   -   -     6         118          56   \n",
       "ＥｄｕＬａｂ              ...       1792   -   -     -          53        1792   \n",
       "サーバーワークス            ...        109   -   4     -          31         114   \n",
       "\n",
       "                 期末従業員数 期末女子従業員数 期末男子従業員数 特許権・実用新案権  \n",
       "ラクス                 561      NaN      NaN         -  \n",
       "ＰＫＳＨＡ　Ｔｅｃｈｎｏｌｏｇy     73      NaN      NaN         -  \n",
       "サインポスト                -      NaN      NaN         -  \n",
       "イーソル                419      NaN      NaN         -  \n",
       "ＥｄｕＬａｂ              115      NaN      NaN         -  \n",
       "サーバーワークス              -      NaN      NaN         -  \n",
       "\n",
       "[6 rows x 24 columns]"
      ]
     },
     "execution_count": 11,
     "metadata": {},
     "output_type": "execute_result"
    }
   ],
   "source": [
    "df_profitable"
   ]
  },
  {
   "cell_type": "markdown",
   "metadata": {},
   "source": [
    "固定資産回転率が４０％を超えていたKudanも気になりますが、今回は選考から外します。<br>\n",
    "さらに、固定資産回転率が１０％以上の会社を絞り込みます。"
   ]
  },
  {
   "cell_type": "code",
   "execution_count": 12,
   "metadata": {},
   "outputs": [
    {
     "name": "stderr",
     "output_type": "stream",
     "text": [
      "/Users/yutopia/anaconda3/lib/python3.7/site-packages/ipykernel_launcher.py:1: UserWarning: Boolean Series key will be reindexed to match DataFrame index.\n",
      "  \"\"\"Entry point for launching an IPython kernel.\n"
     ]
    }
   ],
   "source": [
    "df_profitable=df_profitable[turnover>=10]"
   ]
  },
  {
   "cell_type": "code",
   "execution_count": 13,
   "metadata": {},
   "outputs": [
    {
     "data": {
      "text/html": [
       "<div>\n",
       "<style scoped>\n",
       "    .dataframe tbody tr th:only-of-type {\n",
       "        vertical-align: middle;\n",
       "    }\n",
       "\n",
       "    .dataframe tbody tr th {\n",
       "        vertical-align: top;\n",
       "    }\n",
       "\n",
       "    .dataframe thead th {\n",
       "        text-align: right;\n",
       "    }\n",
       "</style>\n",
       "<table border=\"1\" class=\"dataframe\">\n",
       "  <thead>\n",
       "    <tr style=\"text-align: right;\">\n",
       "      <th></th>\n",
       "      <th>企業利潤率</th>\n",
       "      <th>日経会社コード</th>\n",
       "      <th>固定資産回転率</th>\n",
       "      <th>自己資本経常利益率</th>\n",
       "      <th>自己資本営業利益率</th>\n",
       "      <th>売上高研究開発費比率</th>\n",
       "      <th>ＲＯＥ（自己資本利益率）（Ａ）</th>\n",
       "      <th>ＲＯＥ（自己資本利益率）（Ｂ）</th>\n",
       "      <th>売上高・営業収益</th>\n",
       "      <th>１株当たり利益［累計］</th>\n",
       "      <th>...</th>\n",
       "      <th>ソフトウェア</th>\n",
       "      <th>意匠権</th>\n",
       "      <th>商標権</th>\n",
       "      <th>のれん</th>\n",
       "      <th>【ＱＴＲ】有形固定資産</th>\n",
       "      <th>【ＱＴＲ】無形固定資産</th>\n",
       "      <th>期末従業員数</th>\n",
       "      <th>期末女子従業員数</th>\n",
       "      <th>期末男子従業員数</th>\n",
       "      <th>特許権・実用新案権</th>\n",
       "    </tr>\n",
       "  </thead>\n",
       "  <tbody>\n",
       "    <tr>\n",
       "      <th>サインポスト</th>\n",
       "      <td>13.12</td>\n",
       "      <td>32294</td>\n",
       "      <td>16.93</td>\n",
       "      <td>22.31</td>\n",
       "      <td>22.56</td>\n",
       "      <td>-</td>\n",
       "      <td>16.84</td>\n",
       "      <td>16.84</td>\n",
       "      <td>-</td>\n",
       "      <td>NaN</td>\n",
       "      <td>...</td>\n",
       "      <td>95</td>\n",
       "      <td>-</td>\n",
       "      <td>-</td>\n",
       "      <td>-</td>\n",
       "      <td>45</td>\n",
       "      <td>95</td>\n",
       "      <td>-</td>\n",
       "      <td>NaN</td>\n",
       "      <td>NaN</td>\n",
       "      <td>-</td>\n",
       "    </tr>\n",
       "    <tr>\n",
       "      <th>イーソル</th>\n",
       "      <td>13.44</td>\n",
       "      <td>19498</td>\n",
       "      <td>14.64</td>\n",
       "      <td>20.3</td>\n",
       "      <td>20.62</td>\n",
       "      <td>4.38</td>\n",
       "      <td>15.48</td>\n",
       "      <td>15.43</td>\n",
       "      <td>-</td>\n",
       "      <td>NaN</td>\n",
       "      <td>...</td>\n",
       "      <td>47</td>\n",
       "      <td>-</td>\n",
       "      <td>-</td>\n",
       "      <td>6</td>\n",
       "      <td>118</td>\n",
       "      <td>56</td>\n",
       "      <td>419</td>\n",
       "      <td>NaN</td>\n",
       "      <td>NaN</td>\n",
       "      <td>-</td>\n",
       "    </tr>\n",
       "  </tbody>\n",
       "</table>\n",
       "<p>2 rows × 24 columns</p>\n",
       "</div>"
      ],
      "text/plain": [
       "        企業利潤率  日経会社コード 固定資産回転率 自己資本経常利益率 自己資本営業利益率 売上高研究開発費比率 ＲＯＥ（自己資本利益率）（Ａ）  \\\n",
       "サインポスト  13.12    32294   16.93     22.31     22.56          -           16.84   \n",
       "イーソル    13.44    19498   14.64      20.3     20.62       4.38           15.48   \n",
       "\n",
       "       ＲＯＥ（自己資本利益率）（Ｂ） 売上高・営業収益  １株当たり利益［累計］    ...     ソフトウェア 意匠権 商標権 のれん  \\\n",
       "サインポスト           16.84        -          NaN    ...         95   -   -   -   \n",
       "イーソル             15.43        -          NaN    ...         47   -   -   6   \n",
       "\n",
       "       【ＱＴＲ】有形固定資産 【ＱＴＲ】無形固定資産 期末従業員数 期末女子従業員数 期末男子従業員数 特許権・実用新案権  \n",
       "サインポスト          45          95      -      NaN      NaN         -  \n",
       "イーソル           118          56    419      NaN      NaN         -  \n",
       "\n",
       "[2 rows x 24 columns]"
      ]
     },
     "execution_count": 13,
     "metadata": {},
     "output_type": "execute_result"
    }
   ],
   "source": [
    "df_profitable"
   ]
  },
  {
   "cell_type": "markdown",
   "metadata": {},
   "source": [
    "上記二つの会社は財務データが似ています。<br>\n",
    "有形固定資産と無形固定資産の大小に関しては、2社で逆転していることがわかります。<br>\n",
    "比較したい他の多くのパラメータがサインポストではnull値あるいは - になっていることが多いので適切な比較はできないですが、就職したい企業として今回は<br>\n",
    "多くの財務パラメータでイーソルをやや上回り、ソフトウェアが９５００万円と倍近く上回っているサインポストを選びたいと思います。"
   ]
  },
  {
   "cell_type": "code",
   "execution_count": null,
   "metadata": {},
   "outputs": [],
   "source": []
  }
 ],
 "metadata": {
  "kernelspec": {
   "display_name": "Python 3",
   "language": "python",
   "name": "python3"
  },
  "language_info": {
   "codemirror_mode": {
    "name": "ipython",
    "version": 3
   },
   "file_extension": ".py",
   "mimetype": "text/x-python",
   "name": "python",
   "nbconvert_exporter": "python",
   "pygments_lexer": "ipython3",
   "version": "3.7.1"
  }
 },
 "nbformat": 4,
 "nbformat_minor": 2
}
